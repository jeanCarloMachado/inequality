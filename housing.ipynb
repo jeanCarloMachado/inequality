{
 "cells": [
  {
   "cell_type": "markdown",
   "source": [
    "# Housing (minha casa minha vida an casa verde e amarela\n",
    "\n",
    "1. Webpage [link](https://dados.gov.br/dados/conjuntos-dados/dados-de-programas-habitacionais---sistema-de-habitao---sishab)\n",
    "2. Schema [link](http://sishab.mdr.gov.br/dados_abertos/documentacao_campos_sishab.pdf)\n"
   ],
   "metadata": {
    "collapsed": false
   }
  },
  {
   "cell_type": "code",
   "execution_count": 70,
   "outputs": [
    {
     "name": "stderr",
     "output_type": "stream",
     "text": [
      "/var/folders/xt/sg0ptwx92qn1p3709sfhc4s40000gp/T/ipykernel_6986/1061091329.py:3: DtypeWarning: Columns (6,7,8,10,14,16,19,20,21,23) have mixed types. Specify dtype option on import or set low_memory=False.\n",
      "  df = pd.read_csv(\"data/_contratacoes_pcmv_pcva.csv\", encoding = \"ISO-8859-1\", header=0, sep=\"|\")\n"
     ]
    },
    {
     "data": {
      "text/plain": "       txt_uf txt_municipio    txt_situacao_obra txt_origem_contrato  \\\n0          CE    Fortaleza   Obras Não Iniciadas     Pessoa Jurídica   \n1          PE       Olinda       Obras Entregues     Pessoa Jurídica   \n2          PR  Campo Magro      Obras Concluídas     Pessoa Jurídica   \n3          RO  Porto Velho       Obras Entregues     Pessoa Jurídica   \n4          RO  Porto Velho       Obras Entregues     Pessoa Jurídica   \n...       ...           ...                  ...                 ...   \n280335     SC        Jupiá       Obras Entregues       Pessoa Física   \n280336     SC        Jupiá       Obras Entregues       Pessoa Física   \n280337     SC        Jupiá       Obras Entregues       Pessoa Física   \n280338     SC        Jupiá       Obras Entregues       Pessoa Física   \n280339     SC        Jupiá       Obras Entregues       Pessoa Física   \n\n       txt_programa       txt_modalidade_programa txt_faixa_grupo_renda  \\\n0             PMCMV  FAR Urbanização - Vinculadas    01 Faixa 1 - PMCMV   \n1             PMCMV                  FAR Empresas    01 Faixa 1 - PMCMV   \n2             PMCMV                  FAR Empresas    01 Faixa 1 - PMCMV   \n3             PMCMV                  FAR Empresas    01 Faixa 1 - PMCMV   \n4             PMCMV                  FAR Empresas    01 Faixa 1 - PMCMV   \n...             ...                           ...                   ...   \n280335        PMCMV                        CCFGTS       02 FGTS - PMCMV   \n280336        PMCMV                        CCFGTS       02 FGTS - PMCMV   \n280337        PMCMV                        CCFGTS       02 FGTS - PMCMV   \n280338        PMCMV                        CCFGTS       02 FGTS - PMCMV   \n280339        PMCMV                        CCFGTS       02 FGTS - PMCMV   \n\n       txt_apf_cod_empreendimento             txt_nome_do_empreendimento  \\\n0                        44115825  CONDOMINIO RESIDENCIAL ALDACI BARBOSA   \n1                        49017122      HABITACIONAL SAPUCAIA E AGUAZINHA   \n2                        35695355                       PAC REALOCACAO V   \n3                        29925581        RESIDENCIAL CIDADE DE TODOS III   \n4                        30011639         RESIDENCIAL CIDADE DE TODOS IX   \n...                           ...                                    ...   \n280335                        NaN                                    NaN   \n280336                        NaN                                    NaN   \n280337                        NaN                                    NaN   \n280338                        NaN                                    NaN   \n280339                        NaN                                    NaN   \n\n       txt_agente_financeiro  ... vlr_contrapartida vlr_liberado  \\\n0                      CAIXA  ...               NaN         0,00   \n1                      CAIXA  ...               NaN  33898823,02   \n2                      CAIXA  ...               NaN    701882,78   \n3                      CAIXA  ...               NaN  13808099,65   \n4                      CAIXA  ...               NaN  14103619,81   \n...                      ...  ...               ...          ...   \n280335                 CAIXA  ...               NaN   1364391,57   \n280336                 CAIXA  ...               NaN    352283,66   \n280337                 CAIXA  ...               NaN    268188,81   \n280338                 CAIXA  ...               NaN     75743,60   \n280339                 CAIXA  ...               NaN    115942,81   \n\n         dte_max_liberacao qtd_uh_contratadas qtd_uh_entregues  \\\n0                      NaN                144                0   \n1        8/9/2022 00:00:00                432              432   \n2       12/2/2014 00:00:00                114                0   \n3       14/7/2022 00:00:00                240              240   \n4        7/1/2020 00:00:00                240              240   \n...                    ...                ...              ...   \n280335                 NaN                 12               12   \n280336                 NaN                  3                3   \n280337                 NaN                  2                2   \n280338                 NaN                  1                1   \n280339                 NaN                  1                1   \n\n       txt_cnpj_proponente    txt_razao_social_proponente  \\\n0           73785032000113           ISR CONSTRUCOES LTDA   \n1           02054380000172            AWM ENGENHARIA LTDA   \n2           01607539000176  MUNICIPIO DE CAMPO MAGRO - PR   \n3           34452706000106       COMERCIO ENGENHARIA LTDA   \n4           34452706000106       COMERCIO ENGENHARIA LTDA   \n...                    ...                            ...   \n280335                 NaN                            NaN   \n280336                 NaN                            NaN   \n280337                 NaN                            NaN   \n280338                 NaN                            NaN   \n280339                 NaN                            NaN   \n\n                                    txt_endereco     txt_cep txt_tipologia  \n0                       RUA BORGES DE MELO, S/N_         0.0   Apartamento  \n1                 ANTIGA ESTRADA DE AGUAZINHA SN  53270240.0   Apartamento  \n2                                    CAMPO MAGRO         0.0          Casa  \n3       AV AMAZONAS, N 9680 - BAIRRO SOCIALISTA  76800000.0   Apartamento  \n4          RUA OSWALDO RIBEIRO, S/N - SOCIALISTA  76800000.0   Apartamento  \n...                                          ...         ...           ...  \n280335                                       NaN         NaN           NaN  \n280336                                       NaN         NaN           NaN  \n280337                                       NaN         NaN           NaN  \n280338                                       NaN         NaN           NaN  \n280339                                       NaN         NaN           NaN  \n\n[280340 rows x 24 columns]",
      "text/html": "<div>\n<style scoped>\n    .dataframe tbody tr th:only-of-type {\n        vertical-align: middle;\n    }\n\n    .dataframe tbody tr th {\n        vertical-align: top;\n    }\n\n    .dataframe thead th {\n        text-align: right;\n    }\n</style>\n<table border=\"1\" class=\"dataframe\">\n  <thead>\n    <tr style=\"text-align: right;\">\n      <th></th>\n      <th>txt_uf</th>\n      <th>txt_municipio</th>\n      <th>txt_situacao_obra</th>\n      <th>txt_origem_contrato</th>\n      <th>txt_programa</th>\n      <th>txt_modalidade_programa</th>\n      <th>txt_faixa_grupo_renda</th>\n      <th>txt_apf_cod_empreendimento</th>\n      <th>txt_nome_do_empreendimento</th>\n      <th>txt_agente_financeiro</th>\n      <th>...</th>\n      <th>vlr_contrapartida</th>\n      <th>vlr_liberado</th>\n      <th>dte_max_liberacao</th>\n      <th>qtd_uh_contratadas</th>\n      <th>qtd_uh_entregues</th>\n      <th>txt_cnpj_proponente</th>\n      <th>txt_razao_social_proponente</th>\n      <th>txt_endereco</th>\n      <th>txt_cep</th>\n      <th>txt_tipologia</th>\n    </tr>\n  </thead>\n  <tbody>\n    <tr>\n      <th>0</th>\n      <td>CE</td>\n      <td>Fortaleza</td>\n      <td>Obras Não Iniciadas</td>\n      <td>Pessoa Jurídica</td>\n      <td>PMCMV</td>\n      <td>FAR Urbanização - Vinculadas</td>\n      <td>01 Faixa 1 - PMCMV</td>\n      <td>44115825</td>\n      <td>CONDOMINIO RESIDENCIAL ALDACI BARBOSA</td>\n      <td>CAIXA</td>\n      <td>...</td>\n      <td>NaN</td>\n      <td>0,00</td>\n      <td>NaN</td>\n      <td>144</td>\n      <td>0</td>\n      <td>73785032000113</td>\n      <td>ISR CONSTRUCOES LTDA</td>\n      <td>RUA BORGES DE MELO, S/N_</td>\n      <td>0.0</td>\n      <td>Apartamento</td>\n    </tr>\n    <tr>\n      <th>1</th>\n      <td>PE</td>\n      <td>Olinda</td>\n      <td>Obras Entregues</td>\n      <td>Pessoa Jurídica</td>\n      <td>PMCMV</td>\n      <td>FAR Empresas</td>\n      <td>01 Faixa 1 - PMCMV</td>\n      <td>49017122</td>\n      <td>HABITACIONAL SAPUCAIA E AGUAZINHA</td>\n      <td>CAIXA</td>\n      <td>...</td>\n      <td>NaN</td>\n      <td>33898823,02</td>\n      <td>8/9/2022 00:00:00</td>\n      <td>432</td>\n      <td>432</td>\n      <td>02054380000172</td>\n      <td>AWM ENGENHARIA LTDA</td>\n      <td>ANTIGA ESTRADA DE AGUAZINHA SN</td>\n      <td>53270240.0</td>\n      <td>Apartamento</td>\n    </tr>\n    <tr>\n      <th>2</th>\n      <td>PR</td>\n      <td>Campo Magro</td>\n      <td>Obras Concluídas</td>\n      <td>Pessoa Jurídica</td>\n      <td>PMCMV</td>\n      <td>FAR Empresas</td>\n      <td>01 Faixa 1 - PMCMV</td>\n      <td>35695355</td>\n      <td>PAC REALOCACAO V</td>\n      <td>CAIXA</td>\n      <td>...</td>\n      <td>NaN</td>\n      <td>701882,78</td>\n      <td>12/2/2014 00:00:00</td>\n      <td>114</td>\n      <td>0</td>\n      <td>01607539000176</td>\n      <td>MUNICIPIO DE CAMPO MAGRO - PR</td>\n      <td>CAMPO MAGRO</td>\n      <td>0.0</td>\n      <td>Casa</td>\n    </tr>\n    <tr>\n      <th>3</th>\n      <td>RO</td>\n      <td>Porto Velho</td>\n      <td>Obras Entregues</td>\n      <td>Pessoa Jurídica</td>\n      <td>PMCMV</td>\n      <td>FAR Empresas</td>\n      <td>01 Faixa 1 - PMCMV</td>\n      <td>29925581</td>\n      <td>RESIDENCIAL CIDADE DE TODOS III</td>\n      <td>CAIXA</td>\n      <td>...</td>\n      <td>NaN</td>\n      <td>13808099,65</td>\n      <td>14/7/2022 00:00:00</td>\n      <td>240</td>\n      <td>240</td>\n      <td>34452706000106</td>\n      <td>COMERCIO ENGENHARIA LTDA</td>\n      <td>AV AMAZONAS, N 9680 - BAIRRO SOCIALISTA</td>\n      <td>76800000.0</td>\n      <td>Apartamento</td>\n    </tr>\n    <tr>\n      <th>4</th>\n      <td>RO</td>\n      <td>Porto Velho</td>\n      <td>Obras Entregues</td>\n      <td>Pessoa Jurídica</td>\n      <td>PMCMV</td>\n      <td>FAR Empresas</td>\n      <td>01 Faixa 1 - PMCMV</td>\n      <td>30011639</td>\n      <td>RESIDENCIAL CIDADE DE TODOS IX</td>\n      <td>CAIXA</td>\n      <td>...</td>\n      <td>NaN</td>\n      <td>14103619,81</td>\n      <td>7/1/2020 00:00:00</td>\n      <td>240</td>\n      <td>240</td>\n      <td>34452706000106</td>\n      <td>COMERCIO ENGENHARIA LTDA</td>\n      <td>RUA OSWALDO RIBEIRO, S/N - SOCIALISTA</td>\n      <td>76800000.0</td>\n      <td>Apartamento</td>\n    </tr>\n    <tr>\n      <th>...</th>\n      <td>...</td>\n      <td>...</td>\n      <td>...</td>\n      <td>...</td>\n      <td>...</td>\n      <td>...</td>\n      <td>...</td>\n      <td>...</td>\n      <td>...</td>\n      <td>...</td>\n      <td>...</td>\n      <td>...</td>\n      <td>...</td>\n      <td>...</td>\n      <td>...</td>\n      <td>...</td>\n      <td>...</td>\n      <td>...</td>\n      <td>...</td>\n      <td>...</td>\n      <td>...</td>\n    </tr>\n    <tr>\n      <th>280335</th>\n      <td>SC</td>\n      <td>Jupiá</td>\n      <td>Obras Entregues</td>\n      <td>Pessoa Física</td>\n      <td>PMCMV</td>\n      <td>CCFGTS</td>\n      <td>02 FGTS - PMCMV</td>\n      <td>NaN</td>\n      <td>NaN</td>\n      <td>CAIXA</td>\n      <td>...</td>\n      <td>NaN</td>\n      <td>1364391,57</td>\n      <td>NaN</td>\n      <td>12</td>\n      <td>12</td>\n      <td>NaN</td>\n      <td>NaN</td>\n      <td>NaN</td>\n      <td>NaN</td>\n      <td>NaN</td>\n    </tr>\n    <tr>\n      <th>280336</th>\n      <td>SC</td>\n      <td>Jupiá</td>\n      <td>Obras Entregues</td>\n      <td>Pessoa Física</td>\n      <td>PMCMV</td>\n      <td>CCFGTS</td>\n      <td>02 FGTS - PMCMV</td>\n      <td>NaN</td>\n      <td>NaN</td>\n      <td>CAIXA</td>\n      <td>...</td>\n      <td>NaN</td>\n      <td>352283,66</td>\n      <td>NaN</td>\n      <td>3</td>\n      <td>3</td>\n      <td>NaN</td>\n      <td>NaN</td>\n      <td>NaN</td>\n      <td>NaN</td>\n      <td>NaN</td>\n    </tr>\n    <tr>\n      <th>280337</th>\n      <td>SC</td>\n      <td>Jupiá</td>\n      <td>Obras Entregues</td>\n      <td>Pessoa Física</td>\n      <td>PMCMV</td>\n      <td>CCFGTS</td>\n      <td>02 FGTS - PMCMV</td>\n      <td>NaN</td>\n      <td>NaN</td>\n      <td>CAIXA</td>\n      <td>...</td>\n      <td>NaN</td>\n      <td>268188,81</td>\n      <td>NaN</td>\n      <td>2</td>\n      <td>2</td>\n      <td>NaN</td>\n      <td>NaN</td>\n      <td>NaN</td>\n      <td>NaN</td>\n      <td>NaN</td>\n    </tr>\n    <tr>\n      <th>280338</th>\n      <td>SC</td>\n      <td>Jupiá</td>\n      <td>Obras Entregues</td>\n      <td>Pessoa Física</td>\n      <td>PMCMV</td>\n      <td>CCFGTS</td>\n      <td>02 FGTS - PMCMV</td>\n      <td>NaN</td>\n      <td>NaN</td>\n      <td>CAIXA</td>\n      <td>...</td>\n      <td>NaN</td>\n      <td>75743,60</td>\n      <td>NaN</td>\n      <td>1</td>\n      <td>1</td>\n      <td>NaN</td>\n      <td>NaN</td>\n      <td>NaN</td>\n      <td>NaN</td>\n      <td>NaN</td>\n    </tr>\n    <tr>\n      <th>280339</th>\n      <td>SC</td>\n      <td>Jupiá</td>\n      <td>Obras Entregues</td>\n      <td>Pessoa Física</td>\n      <td>PMCMV</td>\n      <td>CCFGTS</td>\n      <td>02 FGTS - PMCMV</td>\n      <td>NaN</td>\n      <td>NaN</td>\n      <td>CAIXA</td>\n      <td>...</td>\n      <td>NaN</td>\n      <td>115942,81</td>\n      <td>NaN</td>\n      <td>1</td>\n      <td>1</td>\n      <td>NaN</td>\n      <td>NaN</td>\n      <td>NaN</td>\n      <td>NaN</td>\n      <td>NaN</td>\n    </tr>\n  </tbody>\n</table>\n<p>280340 rows × 24 columns</p>\n</div>"
     },
     "execution_count": 70,
     "metadata": {},
     "output_type": "execute_result"
    }
   ],
   "source": [
    "import pandas as pd\n",
    "\n",
    "df = pd.read_csv(\"data/_contratacoes_pcmv_pcva.csv\", encoding = \"ISO-8859-1\", header=0, sep=\"|\")\n"
   ],
   "metadata": {
    "collapsed": false
   }
  },
  {
   "cell_type": "code",
   "execution_count": 124,
   "outputs": [
    {
     "name": "stderr",
     "output_type": "stream",
     "text": [
      "23/06/24 17:16:29 WARN TaskSetManager: Stage 0 contains a task of very large size (4970 KiB). The maximum recommended task size is 1000 KiB.\n",
      "23/06/24 17:16:34 WARN PythonRunner: Detected deadlock while completing task 0.0 in stage 0 (TID 0): Attempting to kill Python Worker\n",
      "                                                                                \r"
     ]
    },
    {
     "name": "stdout",
     "output_type": "stream",
     "text": [
      "+------+-------------+--------------------+-------------------+------------+-----------------------+---------------------+--------------------------+--------------------------+---------------------+-----------------------+---------------------------+--------+------------+-----------------+------------+-------------------+------------------+----------------+-------------------+---------------------------+--------------------+----------+-------------+\n",
      "|txt_uf|txt_municipio|   txt_situacao_obra|txt_origem_contrato|txt_programa|txt_modalidade_programa|txt_faixa_grupo_renda|txt_apf_cod_empreendimento|txt_nome_do_empreendimento|txt_agente_financeiro|dte_assinatura_contrato|num_ano_assinatura_contrato|prc_obra|vlr_operacao|vlr_contrapartida|vlr_liberado|  dte_max_liberacao|qtd_uh_contratadas|qtd_uh_entregues|txt_cnpj_proponente|txt_razao_social_proponente|        txt_endereco|   txt_cep|txt_tipologia|\n",
      "+------+-------------+--------------------+-------------------+------------+-----------------------+---------------------+--------------------------+--------------------------+---------------------+-----------------------+---------------------------+--------+------------+-----------------+------------+-------------------+------------------+----------------+-------------------+---------------------------+--------------------+----------+-------------+\n",
      "|    CE|   Fortaleza | Obras Não Iniciadas|    Pessoa Jurídica|       PMCMV|   FAR Urbanização -...|   01 Faixa 1 - PMCMV|                  44115825|      CONDOMINIO RESIDE...|                CAIXA|    31/12/2018 00:00:00|                    2018,00|    1,15| 11807984,16|              NaN|        0,00|                NaN|               144|               0|     73785032000113|       ISR CONSTRUCOES LTDA|RUA BORGES DE MEL...|       0.0|  Apartamento|\n",
      "|    PE|      Olinda |     Obras Entregues|    Pessoa Jurídica|       PMCMV|           FAR Empresas|   01 Faixa 1 - PMCMV|                  49017122|      HABITACIONAL SAPU...|                CAIXA|      7/2/2018 00:00:00|                    2018,00|  100,00| 34559999,74|              NaN| 33898823,02|  8/9/2022 00:00:00|               432|             432|     02054380000172|        AWM ENGENHARIA LTDA|ANTIGA ESTRADA DE...|5.327024E7|  Apartamento|\n",
      "|    PR| Campo Magro |    Obras Concluídas|    Pessoa Jurídica|       PMCMV|           FAR Empresas|   01 Faixa 1 - PMCMV|                  35695355|          PAC REALOCACAO V|                CAIXA|      5/2/2014 00:00:00|                    2014,00|  100,00|   701882,78|              NaN|   701882,78| 12/2/2014 00:00:00|               114|               0|     01607539000176|       MUNICIPIO DE CAMP...|         CAMPO MAGRO|       0.0|         Casa|\n",
      "|    RO| Porto Velho |     Obras Entregues|    Pessoa Jurídica|       PMCMV|           FAR Empresas|   01 Faixa 1 - PMCMV|                  29925581|      RESIDENCIAL CIDAD...|                CAIXA|      9/4/2010 00:00:00|                    2010,00|  100,00| 13830963,28|              NaN| 13808099,65| 14/7/2022 00:00:00|               240|             240|     34452706000106|       COMERCIO ENGENHAR...|AV AMAZONAS, N 9...|    7.68E7|  Apartamento|\n",
      "|    RO| Porto Velho |     Obras Entregues|    Pessoa Jurídica|       PMCMV|           FAR Empresas|   01 Faixa 1 - PMCMV|                  30011639|      RESIDENCIAL CIDAD...|                CAIXA|      9/4/2010 00:00:00|                    2010,00|  100,00| 14218051,93|              NaN| 14103619,81|  7/1/2020 00:00:00|               240|             240|     34452706000106|       COMERCIO ENGENHAR...|RUA OSWALDO RIBEI...|    7.68E7|  Apartamento|\n",
      "|    RO| Porto Velho |Empreendimentos E...|    Pessoa Jurídica|       PMCMV|           FAR Empresas|   01 Faixa 1 - PMCMV|                  32680414|      RESIDENCIAL CIDAD...|                CAIXA|      9/7/2010 00:00:00|                    2010,00|  100,00|  6840691,60|              NaN|  6849319,84| 11/7/2022 00:00:00|               114|             113|     02364225000152|       CONSTRUTORA JOAO ...|AV AMAZONAS - LOT...|    7.68E7|         Casa|\n",
      "|    RO| Porto Velho |   Obras Distratadas|    Pessoa Jurídica|       PMCMV|           FAR Empresas|   01 Faixa 1 - PMCMV|                  32680852|      RESIDENCIAL CIDAD...|                CAIXA|      9/7/2010 00:00:00|                    2010,00|    0,01|  8190000,00|              NaN|        0,00|                NaN|               210|               0|     00521472000351|        CONSTRUTORA BS LTDA|RUA OSWALDO RIBEI...|    7.68E7|         Casa|\n",
      "|    RO| Porto Velho |   Obras Distratadas|    Pessoa Jurídica|       PMCMV|           FAR Empresas|   01 Faixa 1 - PMCMV|                  32681325|      RESIDENCIAL CIDAD...|                CAIXA|      9/7/2010 00:00:00|                    2010,00|    0,01|  7410000,00|              NaN|        0,00|                NaN|               190|               0|     00521472000351|        CONSTRUTORA BS LTDA|RUA OSVALDO RIBEI...|       0.0|         Casa|\n",
      "|    RO| Porto Velho |   Obras Distratadas|    Pessoa Jurídica|       PMCMV|           FAR Empresas|   01 Faixa 1 - PMCMV|                  32681877|      RESIDENCIAL CIDAD...|                CAIXA|      9/7/2010 00:00:00|                    2010,00|    0,01|  3354000,00|              NaN|        0,00|                NaN|                86|               0|     00521472000351|        CONSTRUTORA BS LTDA|RUA ALEXANDRE GUI...|    7.68E7|         Casa|\n",
      "|    RO| Porto Velho |     Obras Entregues|    Pessoa Jurídica|       PMCMV|           FAR Empresas|   01 Faixa 1 - PMCMV|                  32703630|      RESIDENCIAL CIDAD...|                CAIXA|      9/7/2010 00:00:00|                    2010,00|  100,00|  3421062,22|              NaN|  3405143,34| 11/7/2022 00:00:00|                82|              82|     02364225000152|       CONSTRUTORA JOAO ...|RUA MANE GARRICHA...|    7.68E7|         Casa|\n",
      "|    RO| Porto Velho |     Obras Entregues|    Pessoa Jurídica|       PMCMV|           FAR Empresas|   01 Faixa 1 - PMCMV|                  40267126|      RESIDENCIAL PORTO...|                CAIXA|     25/6/2013 00:00:00|                    2013,00|  100,00| 16864000,00|              NaN| 16665644,97| 30/1/2020 00:00:00|               272|             272|     77578623000170|       CASAALTA CONSTRUC...|RUA DE ACESSO,(AT...|    7.68E7|  Apartamento|\n",
      "|    RO| Porto Velho |   Obras Paralisadas|    Pessoa Jurídica|       PMCMV|           FAR Empresas|   01 Faixa 1 - PMCMV|                  40267344|      RESIDENCIAL PORTO...|                CAIXA|     25/6/2013 00:00:00|                    2013,00|   87,18| 16864000,00|              NaN| 16041560,78|10/10/2022 00:00:00|               272|               0|     00673788000105|       R.D.ENGENHARIA E ...|RUA IVAN CURI, S/...|    7.68E7|  Apartamento|\n",
      "|    RO| Porto Velho |  Obras em Andamento|    Pessoa Jurídica|       PMCMV|           FAR Empresas|   01 Faixa 1 - PMCMV|                  40267459|      RESIDENCIAL PORTO...|                CAIXA|     25/6/2013 00:00:00|                    2013,00|   71,84| 17856000,00|              NaN| 16339435,30|11/10/2022 00:00:00|               288|               0|     00673788000105|       R.D.ENGENHARIA E ...|RUA RAIMUNDO CANT...|    7.68E7|  Apartamento|\n",
      "|    RO| Porto Velho |     Obras Entregues|    Pessoa Jurídica|       PMCMV|           FAR Empresas|   01 Faixa 1 - PMCMV|                  40267564|      RESIDENCIAL PORTO...|                CAIXA|     25/6/2013 00:00:00|                    2013,00|  100,00| 16864000,00|              NaN| 16645529,11| 17/6/2022 00:00:00|               272|             272|     77578623000170|       CASAALTA CONSTRUC...|RUA DE ACESSO,(AT...|    7.68E7|  Apartamento|\n",
      "|    RO| Porto Velho |     Obras Entregues|    Pessoa Jurídica|       PMCMV|           FAR Empresas|   01 Faixa 1 - PMCMV|                  40272237|      RESIDENCIAL PORTO...|                CAIXA|     25/6/2013 00:00:00|                    2013,00|  100,00| 16864000,00|              NaN| 16643203,68| 12/2/2020 00:00:00|               272|             272|     77578623000170|       CASAALTA CONSTRUC...|RUA DE ACESSO,(AT...|    7.68E7|  Apartamento|\n",
      "|    RO| Porto Velho |     Obras Entregues|    Pessoa Jurídica|       PMCMV|           FAR Empresas|   01 Faixa 1 - PMCMV|                  40272789|      RESIDENCIAL PORTO...|                CAIXA|     25/6/2013 00:00:00|                    2013,00|  100,00| 18848000,00|              NaN| 18825614,16| 12/7/2022 00:00:00|               304|             304|     77578623000170|       CASAALTA CONSTRUC...|RUA HUMAITA, S/N ...|    7.68E7|  Apartamento|\n",
      "|    RO| Porto Velho |   Obras Paralisadas|    Pessoa Jurídica|       PMCMV|           FAR Empresas|   01 Faixa 1 - PMCMV|                  40272906|      RESIDENCIAL PORTO...|                CAIXA|     25/6/2013 00:00:00|                    2013,00|   72,98| 18848000,00|              NaN| 17442669,64|11/10/2022 00:00:00|               304|               0|     00673788000105|       R.D.ENGENHARIA E ...|RUA HUMAITA, S/N ...|    7.68E7|  Apartamento|\n",
      "|    RO| Porto Velho |  Obras em Andamento|    Pessoa Jurídica|       PMCMV|           FAR Empresas|   01 Faixa 1 - PMCMV|                  40273148|      RESIDENCIAL PORTO...|                CAIXA|     25/6/2013 00:00:00|                    2013,00|   76,53| 18848000,00|              NaN| 17675268,01|13/10/2022 00:00:00|               304|               0|     00673788000105|       R.D.ENGENHARIA E ...|RUA ALEXANDRE GUI...|    7.68E7|  Apartamento|\n",
      "|    RO| Porto Velho |     Obras Entregues|    Pessoa Jurídica|       PMCMV|           FAR Empresas|   01 Faixa 1 - PMCMV|                  40273367|      RESIDENCIAL PORTO...|                CAIXA|     25/6/2013 00:00:00|                    2013,00|  100,00| 18848000,00|              NaN| 18416211,76| 12/7/2022 00:00:00|               304|             304|     77578623000170|       CASAALTA CONSTRUC...|RUA HUMAITA, S/N ...|    7.68E7|  Apartamento|\n",
      "|    RO| Porto Velho |     Obras Entregues|    Pessoa Jurídica|       PMCMV|           FAR Empresas|   01 Faixa 1 - PMCMV|                  40273690|      RESIDENCIAL PORTO...|                CAIXA|     25/6/2013 00:00:00|                    2013,00|  100,00|  8928000,00|              NaN|  8927754,90| 18/8/2022 00:00:00|               144|             144|     77578623000170|       CASAALTA CONSTRUC...|RUA HUMAITA, S/N ...|    7.68E7|  Apartamento|\n",
      "+------+-------------+--------------------+-------------------+------------+-----------------------+---------------------+--------------------------+--------------------------+---------------------+-----------------------+---------------------------+--------+------------+-----------------+------------+-------------------+------------------+----------------+-------------------+---------------------------+--------------------+----------+-------------+\n",
      "only showing top 20 rows\n",
      "\n"
     ]
    }
   ],
   "source": [
    "from pyspark.sql.session import SparkSession ; spark = SparkSession.builder.getOrCreate()\n",
    "\n",
    "sdf = spark.createDataFrame(df)\n",
    "sdf.show()"
   ],
   "metadata": {
    "collapsed": false
   }
  },
  {
   "cell_type": "code",
   "execution_count": 126,
   "outputs": [
    {
     "name": "stdout",
     "output_type": "stream",
     "text": [
      "root\n",
      " |-- txt_uf: string (nullable = true)\n",
      " |-- txt_municipio: string (nullable = true)\n",
      " |-- txt_situacao_obra: string (nullable = true)\n",
      " |-- txt_origem_contrato: string (nullable = true)\n",
      " |-- txt_programa: string (nullable = true)\n",
      " |-- txt_modalidade_programa: string (nullable = true)\n",
      " |-- txt_faixa_grupo_renda: string (nullable = true)\n",
      " |-- txt_apf_cod_empreendimento: string (nullable = true)\n",
      " |-- txt_nome_do_empreendimento: string (nullable = true)\n",
      " |-- txt_agente_financeiro: string (nullable = true)\n",
      " |-- dte_assinatura_contrato: string (nullable = true)\n",
      " |-- num_ano_assinatura_contrato: string (nullable = true)\n",
      " |-- prc_obra: string (nullable = true)\n",
      " |-- vlr_operacao: string (nullable = true)\n",
      " |-- vlr_contrapartida: string (nullable = true)\n",
      " |-- vlr_liberado: string (nullable = true)\n",
      " |-- dte_max_liberacao: string (nullable = true)\n",
      " |-- qtd_uh_contratadas: long (nullable = true)\n",
      " |-- qtd_uh_entregues: long (nullable = true)\n",
      " |-- txt_cnpj_proponente: string (nullable = true)\n",
      " |-- txt_razao_social_proponente: string (nullable = true)\n",
      " |-- txt_endereco: string (nullable = true)\n",
      " |-- txt_cep: double (nullable = true)\n",
      " |-- txt_tipologia: string (nullable = true)\n",
      "\n"
     ]
    }
   ],
   "source": [
    "sdf.printSchema()"
   ],
   "metadata": {
    "collapsed": false
   }
  },
  {
   "cell_type": "code",
   "execution_count": 129,
   "outputs": [
    {
     "name": "stderr",
     "output_type": "stream",
     "text": [
      "23/06/24 17:20:21 WARN TaskSetManager: Stage 7 contains a task of very large size (4970 KiB). The maximum recommended task size is 1000 KiB.\n",
      "                                                                                \r"
     ]
    },
    {
     "name": "stdout",
     "output_type": "stream",
     "text": [
      "+------------+\n",
      "|txt_programa|\n",
      "+------------+\n",
      "|        FGTS|\n",
      "|       PMCMV|\n",
      "|        PCVA|\n",
      "+------------+\n",
      "\n"
     ]
    },
    {
     "name": "stderr",
     "output_type": "stream",
     "text": [
      "23/06/24 17:20:27 WARN TaskSetManager: Stage 10 contains a task of very large size (4970 KiB). The maximum recommended task size is 1000 KiB.\n",
      "[Stage 10:>                                                       (0 + 10) / 10]\r"
     ]
    },
    {
     "name": "stdout",
     "output_type": "stream",
     "text": [
      "+--------------------+\n",
      "|   txt_situacao_obra|\n",
      "+--------------------+\n",
      "|     Obras Entregues|\n",
      "|     Obras Atrasadas|\n",
      "|Cancelado/Distratado|\n",
      "|Não Iniciada - Fa...|\n",
      "|Empreendimentos E...|\n",
      "|   Obras Paralisadas|\n",
      "|    Obras Concluídas|\n",
      "|Operação saiu da ...|\n",
      "|   Obras Distratadas|\n",
      "|Obras Concluídas ...|\n",
      "|  Obras em Andamento|\n",
      "| Obras Não Iniciadas|\n",
      "+--------------------+\n",
      "\n"
     ]
    },
    {
     "name": "stderr",
     "output_type": "stream",
     "text": [
      "                                                                                \r"
     ]
    }
   ],
   "source": [
    "sdf.select('txt_programa').distinct().show()\n",
    "sdf.select('txt_situacao_obra').distinct().show()"
   ],
   "metadata": {
    "collapsed": false
   }
  },
  {
   "cell_type": "code",
   "execution_count": 128,
   "outputs": [
    {
     "name": "stderr",
     "output_type": "stream",
     "text": [
      "23/06/24 17:18:06 WARN TaskSetManager: Stage 4 contains a task of very large size (4970 KiB). The maximum recommended task size is 1000 KiB.\n",
      "[Stage 4:>                                                        (0 + 10) / 10]\r"
     ]
    },
    {
     "name": "stdout",
     "output_type": "stream",
     "text": [
      "+------------+------+\n",
      "|txt_programa| count|\n",
      "+------------+------+\n",
      "|        FGTS| 69860|\n",
      "|       PMCMV|159867|\n",
      "|        PCVA| 50613|\n",
      "+------------+------+\n",
      "\n"
     ]
    },
    {
     "name": "stderr",
     "output_type": "stream",
     "text": [
      "                                                                                \r"
     ]
    }
   ],
   "source": [
    "sdf.groupBy('txt_programa').count().show()"
   ],
   "metadata": {
    "collapsed": false
   }
  },
  {
   "cell_type": "code",
   "execution_count": 131,
   "outputs": [],
   "source": [
    "casa_verde_amarela = sdf.filter('txt_programa == \"PCVA\"')\n",
    "minha_casa_minha_vida = sdf.filter('txt_programa == \"PMCMV\"')\n",
    "\n"
   ],
   "metadata": {
    "collapsed": false
   }
  },
  {
   "cell_type": "code",
   "execution_count": 138,
   "outputs": [
    {
     "name": "stderr",
     "output_type": "stream",
     "text": [
      "23/06/24 17:25:40 WARN TaskSetManager: Stage 28 contains a task of very large size (4970 KiB). The maximum recommended task size is 1000 KiB.\n",
      "23/06/24 17:25:41 WARN TaskSetManager: Stage 31 contains a task of very large size (4970 KiB). The maximum recommended task size is 1000 KiB.\n",
      "                                                                                \r"
     ]
    },
    {
     "data": {
      "text/plain": "50613"
     },
     "execution_count": 138,
     "metadata": {},
     "output_type": "execute_result"
    }
   ],
   "source": [
    "def filter_by_finished(df):\n",
    "    return df.filter(\"txt_situacao_obra LIKE '%Concluídas%' or txt_situacao_obra LIKE '%Entregues%'\")\n",
    "\n",
    "\n",
    "filter_by_finished(minha_casa_minha_vida).count()\n",
    "filter_by_finished(casa_verde_amarela).count()"
   ],
   "metadata": {
    "collapsed": false
   }
  },
  {
   "cell_type": "code",
   "execution_count": 122,
   "outputs": [
    {
     "name": "stdout",
     "output_type": "stream",
     "text": [
      "The autoreload extension is already loaded. To reload it, use:\n",
      "  %reload_ext autoreload\n"
     ]
    }
   ],
   "source": [
    "\n",
    "%load_ext autoreload\n",
    "%autoreload 2"
   ],
   "metadata": {
    "collapsed": false
   }
  },
  {
   "cell_type": "code",
   "execution_count": 123,
   "outputs": [
    {
     "name": "stdout",
     "output_type": "stream",
     "text": [
      "test3\n"
     ]
    }
   ],
   "source": [
    "\n",
    "import main\n",
    "\n",
    "main.test()"
   ],
   "metadata": {
    "collapsed": false
   }
  }
 ],
 "metadata": {
  "kernelspec": {
   "display_name": "Python 3",
   "language": "python",
   "name": "python3"
  },
  "language_info": {
   "codemirror_mode": {
    "name": "ipython",
    "version": 2
   },
   "file_extension": ".py",
   "mimetype": "text/x-python",
   "name": "python",
   "nbconvert_exporter": "python",
   "pygments_lexer": "ipython2",
   "version": "2.7.6"
  }
 },
 "nbformat": 4,
 "nbformat_minor": 0
}
