{
 "cells": [
  {
   "cell_type": "markdown",
   "source": [
    "# Housing (minha casa minha vida an casa verde e amarela\n",
    "\n",
    "1. Webpage [link](https://dados.gov.br/dados/conjuntos-dados/dados-de-programas-habitacionais---sistema-de-habitao---sishab)\n",
    "2. Schema [link](http://sishab.mdr.gov.br/dados_abertos/documentacao_campos_sishab.pdf)\n"
   ],
   "metadata": {
    "collapsed": false
   }
  },
  {
   "cell_type": "code",
   "execution_count": 70,
   "outputs": [
    {
     "name": "stderr",
     "output_type": "stream",
     "text": [
      "/var/folders/xt/sg0ptwx92qn1p3709sfhc4s40000gp/T/ipykernel_6986/1061091329.py:3: DtypeWarning: Columns (6,7,8,10,14,16,19,20,21,23) have mixed types. Specify dtype option on import or set low_memory=False.\n",
      "  df = pd.read_csv(\"data/_contratacoes_pcmv_pcva.csv\", encoding = \"ISO-8859-1\", header=0, sep=\"|\")\n"
     ]
    },
    {
     "data": {
      "text/plain": "       txt_uf txt_municipio    txt_situacao_obra txt_origem_contrato  \\\n0          CE    Fortaleza   Obras Não Iniciadas     Pessoa Jurídica   \n1          PE       Olinda       Obras Entregues     Pessoa Jurídica   \n2          PR  Campo Magro      Obras Concluídas     Pessoa Jurídica   \n3          RO  Porto Velho       Obras Entregues     Pessoa Jurídica   \n4          RO  Porto Velho       Obras Entregues     Pessoa Jurídica   \n...       ...           ...                  ...                 ...   \n280335     SC        Jupiá       Obras Entregues       Pessoa Física   \n280336     SC        Jupiá       Obras Entregues       Pessoa Física   \n280337     SC        Jupiá       Obras Entregues       Pessoa Física   \n280338     SC        Jupiá       Obras Entregues       Pessoa Física   \n280339     SC        Jupiá       Obras Entregues       Pessoa Física   \n\n       txt_programa       txt_modalidade_programa txt_faixa_grupo_renda  \\\n0             PMCMV  FAR Urbanização - Vinculadas    01 Faixa 1 - PMCMV   \n1             PMCMV                  FAR Empresas    01 Faixa 1 - PMCMV   \n2             PMCMV                  FAR Empresas    01 Faixa 1 - PMCMV   \n3             PMCMV                  FAR Empresas    01 Faixa 1 - PMCMV   \n4             PMCMV                  FAR Empresas    01 Faixa 1 - PMCMV   \n...             ...                           ...                   ...   \n280335        PMCMV                        CCFGTS       02 FGTS - PMCMV   \n280336        PMCMV                        CCFGTS       02 FGTS - PMCMV   \n280337        PMCMV                        CCFGTS       02 FGTS - PMCMV   \n280338        PMCMV                        CCFGTS       02 FGTS - PMCMV   \n280339        PMCMV                        CCFGTS       02 FGTS - PMCMV   \n\n       txt_apf_cod_empreendimento             txt_nome_do_empreendimento  \\\n0                        44115825  CONDOMINIO RESIDENCIAL ALDACI BARBOSA   \n1                        49017122      HABITACIONAL SAPUCAIA E AGUAZINHA   \n2                        35695355                       PAC REALOCACAO V   \n3                        29925581        RESIDENCIAL CIDADE DE TODOS III   \n4                        30011639         RESIDENCIAL CIDADE DE TODOS IX   \n...                           ...                                    ...   \n280335                        NaN                                    NaN   \n280336                        NaN                                    NaN   \n280337                        NaN                                    NaN   \n280338                        NaN                                    NaN   \n280339                        NaN                                    NaN   \n\n       txt_agente_financeiro  ... vlr_contrapartida vlr_liberado  \\\n0                      CAIXA  ...               NaN         0,00   \n1                      CAIXA  ...               NaN  33898823,02   \n2                      CAIXA  ...               NaN    701882,78   \n3                      CAIXA  ...               NaN  13808099,65   \n4                      CAIXA  ...               NaN  14103619,81   \n...                      ...  ...               ...          ...   \n280335                 CAIXA  ...               NaN   1364391,57   \n280336                 CAIXA  ...               NaN    352283,66   \n280337                 CAIXA  ...               NaN    268188,81   \n280338                 CAIXA  ...               NaN     75743,60   \n280339                 CAIXA  ...               NaN    115942,81   \n\n         dte_max_liberacao qtd_uh_contratadas qtd_uh_entregues  \\\n0                      NaN                144                0   \n1        8/9/2022 00:00:00                432              432   \n2       12/2/2014 00:00:00                114                0   \n3       14/7/2022 00:00:00                240              240   \n4        7/1/2020 00:00:00                240              240   \n...                    ...                ...              ...   \n280335                 NaN                 12               12   \n280336                 NaN                  3                3   \n280337                 NaN                  2                2   \n280338                 NaN                  1                1   \n280339                 NaN                  1                1   \n\n       txt_cnpj_proponente    txt_razao_social_proponente  \\\n0           73785032000113           ISR CONSTRUCOES LTDA   \n1           02054380000172            AWM ENGENHARIA LTDA   \n2           01607539000176  MUNICIPIO DE CAMPO MAGRO - PR   \n3           34452706000106       COMERCIO ENGENHARIA LTDA   \n4           34452706000106       COMERCIO ENGENHARIA LTDA   \n...                    ...                            ...   \n280335                 NaN                            NaN   \n280336                 NaN                            NaN   \n280337                 NaN                            NaN   \n280338                 NaN                            NaN   \n280339                 NaN                            NaN   \n\n                                    txt_endereco     txt_cep txt_tipologia  \n0                       RUA BORGES DE MELO, S/N_         0.0   Apartamento  \n1                 ANTIGA ESTRADA DE AGUAZINHA SN  53270240.0   Apartamento  \n2                                    CAMPO MAGRO         0.0          Casa  \n3       AV AMAZONAS, N 9680 - BAIRRO SOCIALISTA  76800000.0   Apartamento  \n4          RUA OSWALDO RIBEIRO, S/N - SOCIALISTA  76800000.0   Apartamento  \n...                                          ...         ...           ...  \n280335                                       NaN         NaN           NaN  \n280336                                       NaN         NaN           NaN  \n280337                                       NaN         NaN           NaN  \n280338                                       NaN         NaN           NaN  \n280339                                       NaN         NaN           NaN  \n\n[280340 rows x 24 columns]",
      "text/html": "<div>\n<style scoped>\n    .dataframe tbody tr th:only-of-type {\n        vertical-align: middle;\n    }\n\n    .dataframe tbody tr th {\n        vertical-align: top;\n    }\n\n    .dataframe thead th {\n        text-align: right;\n    }\n</style>\n<table border=\"1\" class=\"dataframe\">\n  <thead>\n    <tr style=\"text-align: right;\">\n      <th></th>\n      <th>txt_uf</th>\n      <th>txt_municipio</th>\n      <th>txt_situacao_obra</th>\n      <th>txt_origem_contrato</th>\n      <th>txt_programa</th>\n      <th>txt_modalidade_programa</th>\n      <th>txt_faixa_grupo_renda</th>\n      <th>txt_apf_cod_empreendimento</th>\n      <th>txt_nome_do_empreendimento</th>\n      <th>txt_agente_financeiro</th>\n      <th>...</th>\n      <th>vlr_contrapartida</th>\n      <th>vlr_liberado</th>\n      <th>dte_max_liberacao</th>\n      <th>qtd_uh_contratadas</th>\n      <th>qtd_uh_entregues</th>\n      <th>txt_cnpj_proponente</th>\n      <th>txt_razao_social_proponente</th>\n      <th>txt_endereco</th>\n      <th>txt_cep</th>\n      <th>txt_tipologia</th>\n    </tr>\n  </thead>\n  <tbody>\n    <tr>\n      <th>0</th>\n      <td>CE</td>\n      <td>Fortaleza</td>\n      <td>Obras Não Iniciadas</td>\n      <td>Pessoa Jurídica</td>\n      <td>PMCMV</td>\n      <td>FAR Urbanização - Vinculadas</td>\n      <td>01 Faixa 1 - PMCMV</td>\n      <td>44115825</td>\n      <td>CONDOMINIO RESIDENCIAL ALDACI BARBOSA</td>\n      <td>CAIXA</td>\n      <td>...</td>\n      <td>NaN</td>\n      <td>0,00</td>\n      <td>NaN</td>\n      <td>144</td>\n      <td>0</td>\n      <td>73785032000113</td>\n      <td>ISR CONSTRUCOES LTDA</td>\n      <td>RUA BORGES DE MELO, S/N_</td>\n      <td>0.0</td>\n      <td>Apartamento</td>\n    </tr>\n    <tr>\n      <th>1</th>\n      <td>PE</td>\n      <td>Olinda</td>\n      <td>Obras Entregues</td>\n      <td>Pessoa Jurídica</td>\n      <td>PMCMV</td>\n      <td>FAR Empresas</td>\n      <td>01 Faixa 1 - PMCMV</td>\n      <td>49017122</td>\n      <td>HABITACIONAL SAPUCAIA E AGUAZINHA</td>\n      <td>CAIXA</td>\n      <td>...</td>\n      <td>NaN</td>\n      <td>33898823,02</td>\n      <td>8/9/2022 00:00:00</td>\n      <td>432</td>\n      <td>432</td>\n      <td>02054380000172</td>\n      <td>AWM ENGENHARIA LTDA</td>\n      <td>ANTIGA ESTRADA DE AGUAZINHA SN</td>\n      <td>53270240.0</td>\n      <td>Apartamento</td>\n    </tr>\n    <tr>\n      <th>2</th>\n      <td>PR</td>\n      <td>Campo Magro</td>\n      <td>Obras Concluídas</td>\n      <td>Pessoa Jurídica</td>\n      <td>PMCMV</td>\n      <td>FAR Empresas</td>\n      <td>01 Faixa 1 - PMCMV</td>\n      <td>35695355</td>\n      <td>PAC REALOCACAO V</td>\n      <td>CAIXA</td>\n      <td>...</td>\n      <td>NaN</td>\n      <td>701882,78</td>\n      <td>12/2/2014 00:00:00</td>\n      <td>114</td>\n      <td>0</td>\n      <td>01607539000176</td>\n      <td>MUNICIPIO DE CAMPO MAGRO - PR</td>\n      <td>CAMPO MAGRO</td>\n      <td>0.0</td>\n      <td>Casa</td>\n    </tr>\n    <tr>\n      <th>3</th>\n      <td>RO</td>\n      <td>Porto Velho</td>\n      <td>Obras Entregues</td>\n      <td>Pessoa Jurídica</td>\n      <td>PMCMV</td>\n      <td>FAR Empresas</td>\n      <td>01 Faixa 1 - PMCMV</td>\n      <td>29925581</td>\n      <td>RESIDENCIAL CIDADE DE TODOS III</td>\n      <td>CAIXA</td>\n      <td>...</td>\n      <td>NaN</td>\n      <td>13808099,65</td>\n      <td>14/7/2022 00:00:00</td>\n      <td>240</td>\n      <td>240</td>\n      <td>34452706000106</td>\n      <td>COMERCIO ENGENHARIA LTDA</td>\n      <td>AV AMAZONAS, N 9680 - BAIRRO SOCIALISTA</td>\n      <td>76800000.0</td>\n      <td>Apartamento</td>\n    </tr>\n    <tr>\n      <th>4</th>\n      <td>RO</td>\n      <td>Porto Velho</td>\n      <td>Obras Entregues</td>\n      <td>Pessoa Jurídica</td>\n      <td>PMCMV</td>\n      <td>FAR Empresas</td>\n      <td>01 Faixa 1 - PMCMV</td>\n      <td>30011639</td>\n      <td>RESIDENCIAL CIDADE DE TODOS IX</td>\n      <td>CAIXA</td>\n      <td>...</td>\n      <td>NaN</td>\n      <td>14103619,81</td>\n      <td>7/1/2020 00:00:00</td>\n      <td>240</td>\n      <td>240</td>\n      <td>34452706000106</td>\n      <td>COMERCIO ENGENHARIA LTDA</td>\n      <td>RUA OSWALDO RIBEIRO, S/N - SOCIALISTA</td>\n      <td>76800000.0</td>\n      <td>Apartamento</td>\n    </tr>\n    <tr>\n      <th>...</th>\n      <td>...</td>\n      <td>...</td>\n      <td>...</td>\n      <td>...</td>\n      <td>...</td>\n      <td>...</td>\n      <td>...</td>\n      <td>...</td>\n      <td>...</td>\n      <td>...</td>\n      <td>...</td>\n      <td>...</td>\n      <td>...</td>\n      <td>...</td>\n      <td>...</td>\n      <td>...</td>\n      <td>...</td>\n      <td>...</td>\n      <td>...</td>\n      <td>...</td>\n      <td>...</td>\n    </tr>\n    <tr>\n      <th>280335</th>\n      <td>SC</td>\n      <td>Jupiá</td>\n      <td>Obras Entregues</td>\n      <td>Pessoa Física</td>\n      <td>PMCMV</td>\n      <td>CCFGTS</td>\n      <td>02 FGTS - PMCMV</td>\n      <td>NaN</td>\n      <td>NaN</td>\n      <td>CAIXA</td>\n      <td>...</td>\n      <td>NaN</td>\n      <td>1364391,57</td>\n      <td>NaN</td>\n      <td>12</td>\n      <td>12</td>\n      <td>NaN</td>\n      <td>NaN</td>\n      <td>NaN</td>\n      <td>NaN</td>\n      <td>NaN</td>\n    </tr>\n    <tr>\n      <th>280336</th>\n      <td>SC</td>\n      <td>Jupiá</td>\n      <td>Obras Entregues</td>\n      <td>Pessoa Física</td>\n      <td>PMCMV</td>\n      <td>CCFGTS</td>\n      <td>02 FGTS - PMCMV</td>\n      <td>NaN</td>\n      <td>NaN</td>\n      <td>CAIXA</td>\n      <td>...</td>\n      <td>NaN</td>\n      <td>352283,66</td>\n      <td>NaN</td>\n      <td>3</td>\n      <td>3</td>\n      <td>NaN</td>\n      <td>NaN</td>\n      <td>NaN</td>\n      <td>NaN</td>\n      <td>NaN</td>\n    </tr>\n    <tr>\n      <th>280337</th>\n      <td>SC</td>\n      <td>Jupiá</td>\n      <td>Obras Entregues</td>\n      <td>Pessoa Física</td>\n      <td>PMCMV</td>\n      <td>CCFGTS</td>\n      <td>02 FGTS - PMCMV</td>\n      <td>NaN</td>\n      <td>NaN</td>\n      <td>CAIXA</td>\n      <td>...</td>\n      <td>NaN</td>\n      <td>268188,81</td>\n      <td>NaN</td>\n      <td>2</td>\n      <td>2</td>\n      <td>NaN</td>\n      <td>NaN</td>\n      <td>NaN</td>\n      <td>NaN</td>\n      <td>NaN</td>\n    </tr>\n    <tr>\n      <th>280338</th>\n      <td>SC</td>\n      <td>Jupiá</td>\n      <td>Obras Entregues</td>\n      <td>Pessoa Física</td>\n      <td>PMCMV</td>\n      <td>CCFGTS</td>\n      <td>02 FGTS - PMCMV</td>\n      <td>NaN</td>\n      <td>NaN</td>\n      <td>CAIXA</td>\n      <td>...</td>\n      <td>NaN</td>\n      <td>75743,60</td>\n      <td>NaN</td>\n      <td>1</td>\n      <td>1</td>\n      <td>NaN</td>\n      <td>NaN</td>\n      <td>NaN</td>\n      <td>NaN</td>\n      <td>NaN</td>\n    </tr>\n    <tr>\n      <th>280339</th>\n      <td>SC</td>\n      <td>Jupiá</td>\n      <td>Obras Entregues</td>\n      <td>Pessoa Física</td>\n      <td>PMCMV</td>\n      <td>CCFGTS</td>\n      <td>02 FGTS - PMCMV</td>\n      <td>NaN</td>\n      <td>NaN</td>\n      <td>CAIXA</td>\n      <td>...</td>\n      <td>NaN</td>\n      <td>115942,81</td>\n      <td>NaN</td>\n      <td>1</td>\n      <td>1</td>\n      <td>NaN</td>\n      <td>NaN</td>\n      <td>NaN</td>\n      <td>NaN</td>\n      <td>NaN</td>\n    </tr>\n  </tbody>\n</table>\n<p>280340 rows × 24 columns</p>\n</div>"
     },
     "execution_count": 70,
     "metadata": {},
     "output_type": "execute_result"
    }
   ],
   "source": [
    "import pandas as pd\n",
    "\n",
    "df = pd.read_csv(\"data/_contratacoes_pcmv_pcva.csv\", encoding = \"ISO-8859-1\", header=0, sep=\"|\")\n"
   ],
   "metadata": {
    "collapsed": false
   }
  },
  {
   "cell_type": "code",
   "execution_count": 70,
   "outputs": [],
   "source": [
    "\n"
   ],
   "metadata": {
    "collapsed": false
   }
  },
  {
   "cell_type": "code",
   "execution_count": null,
   "outputs": [],
   "source": [
    "%run main.py\n"
   ],
   "metadata": {
    "collapsed": false
   }
  }
 ],
 "metadata": {
  "kernelspec": {
   "display_name": "Python 3",
   "language": "python",
   "name": "python3"
  },
  "language_info": {
   "codemirror_mode": {
    "name": "ipython",
    "version": 2
   },
   "file_extension": ".py",
   "mimetype": "text/x-python",
   "name": "python",
   "nbconvert_exporter": "python",
   "pygments_lexer": "ipython2",
   "version": "2.7.6"
  }
 },
 "nbformat": 4,
 "nbformat_minor": 0
}
